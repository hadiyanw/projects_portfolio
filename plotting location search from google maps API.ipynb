{
 "cells": [
  {
   "cell_type": "markdown",
   "id": "8676a281-f34e-4b77-9dec-92cca8cf2017",
   "metadata": {},
   "source": [
    "# Creating Simple Search Engine\n",
    "\n",
    "This project will compile the things we have learnt about google maps API. the code will create a function which will ask keyword, input radius, shows the marker, and give information needed for each marker.\n"
   ]
  },
  {
   "cell_type": "code",
   "execution_count": 21,
   "id": "cba07a9f-0c3f-4585-a209-845dc8945ab9",
   "metadata": {},
   "outputs": [],
   "source": [
    "import requests\n",
    "from urllib.parse import urlencode\n",
    "import pandas as pd \n",
    "import geopandas as gpd\n",
    "import folium"
   ]
  },
  {
   "cell_type": "code",
   "execution_count": 22,
   "id": "9fbb87cc-e8d8-4a28-8d4a-a842075f1030",
   "metadata": {},
   "outputs": [],
   "source": [
    "import json\n",
    "from sqlalchemy import create_engine\n",
    "with open('credential.json') as f:\n",
    "    js=json.load(f)\n",
    "    api_key=js['api_key']"
   ]
  },
  {
   "cell_type": "code",
   "execution_count": 23,
   "id": "baeb29f1-07e6-4979-b8d9-7521344e5a0d",
   "metadata": {},
   "outputs": [],
   "source": [
    "# Creating function which asking key word and retrieve the data from google maps using geocoding API.\n",
    "\n",
    "def input_keyword(name_address_postalcode):\n",
    "    scheme=\"https\"\n",
    "    output=\"json\"\n",
    "    endpoint=\"maps.googleapis.com/maps/api/place/findplacefromtext\"\n",
    "    output=\"json\"\n",
    "    params={\"input\":name_address_postalcode,\n",
    "           'inputtype':\"textquery\",\n",
    "           'key':api_key,\n",
    "           'fields':'name,geometry'}\n",
    "    encodedparams=urlencode(params)\n",
    "    url = f\"{scheme}://{endpoint}/{output}?{encodedparams}\"\n",
    "    r=requests.get(url)\n",
    "    latlng = {}\n",
    "    try:\n",
    "        latlng = r.json()[\"candidates\"][0]['geometry']['location']\n",
    "    except:\n",
    "        pass\n",
    "    return latlng.get(\"lat\"),latlng.get('lng')"
   ]
  },
  {
   "cell_type": "code",
   "execution_count": 24,
   "id": "d4569159-e498-4586-94bf-64021ede467a",
   "metadata": {},
   "outputs": [
    {
     "data": {
      "text/plain": [
       "(-6.176565099999999, 106.8305901)"
      ]
     },
     "execution_count": 24,
     "metadata": {},
     "output_type": "execute_result"
    }
   ],
   "source": [
    "h = input_keyword(\"stasiun gambir\")\n",
    "h"
   ]
  },
  {
   "cell_type": "code",
   "execution_count": 25,
   "id": "bce99055-fe04-48b8-b3b1-88d87318db79",
   "metadata": {},
   "outputs": [],
   "source": [
    "# function for presenting keyword onto the map\n",
    "\n",
    "def showing_map(latlng):\n",
    "    Map = folium.Map(location = latlng,zoom_start=15)\n",
    "    folium.Marker(latlng).add_to(Map)\n",
    "    return Map"
   ]
  },
  {
   "cell_type": "code",
   "execution_count": 26,
   "id": "12c708fe-5629-4a2d-b279-4fda0b3b11e1",
   "metadata": {},
   "outputs": [],
   "source": [
    "# searching location nearby main location search ased on type\n",
    "\n",
    "# now we are suing different type of places api which called narby places\n",
    "# The requirement for using thi s api is latitude and longitude which is provided by preveous function\n",
    "\n",
    "def nearby_place(location,rad, location_type):\n",
    "    scheme=\"https\"\n",
    "    output=\"json\"\n",
    "    endpoint=\"maps.googleapis.com/maps/api/place/nearbysearch\"\n",
    "    output=\"json\"\n",
    "    params={\"location\":f\"{location[0]},{location[1]}\",\n",
    "           'radius':rad,\n",
    "           'type':location_type,\n",
    "           'key':api_key}\n",
    "    encodedparams=urlencode(params)\n",
    "    url = f\"{scheme}://{endpoint}/{output}?{encodedparams}\"\n",
    "    r=requests.get(url)\n",
    "    return r.json()['results']"
   ]
  },
  {
   "cell_type": "code",
   "execution_count": 27,
   "id": "d6bea3b0-0039-4046-a322-40bc8a257b31",
   "metadata": {},
   "outputs": [],
   "source": [
    "# we already have map presenting function, lets update it\n",
    "\n",
    "def showing_map2(location):\n",
    "    Map = folium.Map(location = location,zoom_start=18)\n",
    "    folium.Marker(location,icon=folium.Icon(color='red',icon='dotted')).add_to(Map)\n",
    "    latlng={}\n",
    "    for i in range(0, len(test_1)): \n",
    "        # get the marker location\n",
    "        latlng = test_1[i]['geometry']['location']\n",
    "        latlng= latlng = latlng.get('lat'),latlng.get('lng')\n",
    "        folium.Marker(latlng).add_to(Map)       \n",
    "    return Map"
   ]
  },
  {
   "cell_type": "code",
   "execution_count": 28,
   "id": "e0b54aac-871f-46cb-af3f-57a78d9479da",
   "metadata": {},
   "outputs": [
    {
     "data": {
      "text/html": [
       "<div style=\"width:100%;\"><div style=\"position:relative;width:100%;height:0;padding-bottom:60%;\"><span style=\"color:#565656\">Make this Notebook Trusted to load map: File -> Trust Notebook</span><iframe src=\"about:blank\" style=\"position:absolute;width:100%;height:100%;left:0;top:0;border:none !important;\" data-html=%3C%21DOCTYPE%20html%3E%0A%3Chead%3E%20%20%20%20%0A%20%20%20%20%3Cmeta%20http-equiv%3D%22content-type%22%20content%3D%22text/html%3B%20charset%3DUTF-8%22%20/%3E%0A%20%20%20%20%0A%20%20%20%20%20%20%20%20%3Cscript%3E%0A%20%20%20%20%20%20%20%20%20%20%20%20L_NO_TOUCH%20%3D%20false%3B%0A%20%20%20%20%20%20%20%20%20%20%20%20L_DISABLE_3D%20%3D%20false%3B%0A%20%20%20%20%20%20%20%20%3C/script%3E%0A%20%20%20%20%0A%20%20%20%20%3Cstyle%3Ehtml%2C%20body%20%7Bwidth%3A%20100%25%3Bheight%3A%20100%25%3Bmargin%3A%200%3Bpadding%3A%200%3B%7D%3C/style%3E%0A%20%20%20%20%3Cstyle%3E%23map%20%7Bposition%3Aabsolute%3Btop%3A0%3Bbottom%3A0%3Bright%3A0%3Bleft%3A0%3B%7D%3C/style%3E%0A%20%20%20%20%3Cscript%20src%3D%22https%3A//cdn.jsdelivr.net/npm/leaflet%401.6.0/dist/leaflet.js%22%3E%3C/script%3E%0A%20%20%20%20%3Cscript%20src%3D%22https%3A//code.jquery.com/jquery-1.12.4.min.js%22%3E%3C/script%3E%0A%20%20%20%20%3Cscript%20src%3D%22https%3A//maxcdn.bootstrapcdn.com/bootstrap/3.2.0/js/bootstrap.min.js%22%3E%3C/script%3E%0A%20%20%20%20%3Cscript%20src%3D%22https%3A//cdnjs.cloudflare.com/ajax/libs/Leaflet.awesome-markers/2.0.2/leaflet.awesome-markers.js%22%3E%3C/script%3E%0A%20%20%20%20%3Clink%20rel%3D%22stylesheet%22%20href%3D%22https%3A//cdn.jsdelivr.net/npm/leaflet%401.6.0/dist/leaflet.css%22/%3E%0A%20%20%20%20%3Clink%20rel%3D%22stylesheet%22%20href%3D%22https%3A//maxcdn.bootstrapcdn.com/bootstrap/3.2.0/css/bootstrap.min.css%22/%3E%0A%20%20%20%20%3Clink%20rel%3D%22stylesheet%22%20href%3D%22https%3A//maxcdn.bootstrapcdn.com/bootstrap/3.2.0/css/bootstrap-theme.min.css%22/%3E%0A%20%20%20%20%3Clink%20rel%3D%22stylesheet%22%20href%3D%22https%3A//maxcdn.bootstrapcdn.com/font-awesome/4.6.3/css/font-awesome.min.css%22/%3E%0A%20%20%20%20%3Clink%20rel%3D%22stylesheet%22%20href%3D%22https%3A//cdnjs.cloudflare.com/ajax/libs/Leaflet.awesome-markers/2.0.2/leaflet.awesome-markers.css%22/%3E%0A%20%20%20%20%3Clink%20rel%3D%22stylesheet%22%20href%3D%22https%3A//cdn.jsdelivr.net/gh/python-visualization/folium/folium/templates/leaflet.awesome.rotate.min.css%22/%3E%0A%20%20%20%20%0A%20%20%20%20%20%20%20%20%20%20%20%20%3Cmeta%20name%3D%22viewport%22%20content%3D%22width%3Ddevice-width%2C%0A%20%20%20%20%20%20%20%20%20%20%20%20%20%20%20%20initial-scale%3D1.0%2C%20maximum-scale%3D1.0%2C%20user-scalable%3Dno%22%20/%3E%0A%20%20%20%20%20%20%20%20%20%20%20%20%3Cstyle%3E%0A%20%20%20%20%20%20%20%20%20%20%20%20%20%20%20%20%23map_90d55c80a97149b28dd4c28c0004fded%20%7B%0A%20%20%20%20%20%20%20%20%20%20%20%20%20%20%20%20%20%20%20%20position%3A%20relative%3B%0A%20%20%20%20%20%20%20%20%20%20%20%20%20%20%20%20%20%20%20%20width%3A%20100.0%25%3B%0A%20%20%20%20%20%20%20%20%20%20%20%20%20%20%20%20%20%20%20%20height%3A%20100.0%25%3B%0A%20%20%20%20%20%20%20%20%20%20%20%20%20%20%20%20%20%20%20%20left%3A%200.0%25%3B%0A%20%20%20%20%20%20%20%20%20%20%20%20%20%20%20%20%20%20%20%20top%3A%200.0%25%3B%0A%20%20%20%20%20%20%20%20%20%20%20%20%20%20%20%20%7D%0A%20%20%20%20%20%20%20%20%20%20%20%20%3C/style%3E%0A%20%20%20%20%20%20%20%20%0A%3C/head%3E%0A%3Cbody%3E%20%20%20%20%0A%20%20%20%20%0A%20%20%20%20%20%20%20%20%20%20%20%20%3Cdiv%20class%3D%22folium-map%22%20id%3D%22map_90d55c80a97149b28dd4c28c0004fded%22%20%3E%3C/div%3E%0A%20%20%20%20%20%20%20%20%0A%3C/body%3E%0A%3Cscript%3E%20%20%20%20%0A%20%20%20%20%0A%20%20%20%20%20%20%20%20%20%20%20%20var%20map_90d55c80a97149b28dd4c28c0004fded%20%3D%20L.map%28%0A%20%20%20%20%20%20%20%20%20%20%20%20%20%20%20%20%22map_90d55c80a97149b28dd4c28c0004fded%22%2C%0A%20%20%20%20%20%20%20%20%20%20%20%20%20%20%20%20%7B%0A%20%20%20%20%20%20%20%20%20%20%20%20%20%20%20%20%20%20%20%20center%3A%20%5B-6.984356399999999%2C%20110.4092608%5D%2C%0A%20%20%20%20%20%20%20%20%20%20%20%20%20%20%20%20%20%20%20%20crs%3A%20L.CRS.EPSG3857%2C%0A%20%20%20%20%20%20%20%20%20%20%20%20%20%20%20%20%20%20%20%20zoom%3A%2015%2C%0A%20%20%20%20%20%20%20%20%20%20%20%20%20%20%20%20%20%20%20%20zoomControl%3A%20true%2C%0A%20%20%20%20%20%20%20%20%20%20%20%20%20%20%20%20%20%20%20%20preferCanvas%3A%20false%2C%0A%20%20%20%20%20%20%20%20%20%20%20%20%20%20%20%20%7D%0A%20%20%20%20%20%20%20%20%20%20%20%20%29%3B%0A%0A%20%20%20%20%20%20%20%20%20%20%20%20%0A%0A%20%20%20%20%20%20%20%20%0A%20%20%20%20%0A%20%20%20%20%20%20%20%20%20%20%20%20var%20tile_layer_04ec118fa27743cca7979b73619a8158%20%3D%20L.tileLayer%28%0A%20%20%20%20%20%20%20%20%20%20%20%20%20%20%20%20%22https%3A//%7Bs%7D.tile.openstreetmap.org/%7Bz%7D/%7Bx%7D/%7By%7D.png%22%2C%0A%20%20%20%20%20%20%20%20%20%20%20%20%20%20%20%20%7B%22attribution%22%3A%20%22Data%20by%20%5Cu0026copy%3B%20%5Cu003ca%20href%3D%5C%22http%3A//openstreetmap.org%5C%22%5Cu003eOpenStreetMap%5Cu003c/a%5Cu003e%2C%20under%20%5Cu003ca%20href%3D%5C%22http%3A//www.openstreetmap.org/copyright%5C%22%5Cu003eODbL%5Cu003c/a%5Cu003e.%22%2C%20%22detectRetina%22%3A%20false%2C%20%22maxNativeZoom%22%3A%2018%2C%20%22maxZoom%22%3A%2018%2C%20%22minZoom%22%3A%200%2C%20%22noWrap%22%3A%20false%2C%20%22opacity%22%3A%201%2C%20%22subdomains%22%3A%20%22abc%22%2C%20%22tms%22%3A%20false%7D%0A%20%20%20%20%20%20%20%20%20%20%20%20%29.addTo%28map_90d55c80a97149b28dd4c28c0004fded%29%3B%0A%20%20%20%20%20%20%20%20%0A%20%20%20%20%0A%20%20%20%20%20%20%20%20%20%20%20%20var%20marker_c39f639e5dd94b8e8ae9b859a68a3613%20%3D%20L.marker%28%0A%20%20%20%20%20%20%20%20%20%20%20%20%20%20%20%20%5B-6.984356399999999%2C%20110.4092608%5D%2C%0A%20%20%20%20%20%20%20%20%20%20%20%20%20%20%20%20%7B%7D%0A%20%20%20%20%20%20%20%20%20%20%20%20%29.addTo%28map_90d55c80a97149b28dd4c28c0004fded%29%3B%0A%20%20%20%20%20%20%20%20%0A%3C/script%3E onload=\"this.contentDocument.open();this.contentDocument.write(    decodeURIComponent(this.getAttribute('data-html')));this.contentDocument.close();\" allowfullscreen webkitallowfullscreen mozallowfullscreen></iframe></div></div>"
      ],
      "text/plain": [
       "<folium.folium.Map at 0x7f2c5f150070>"
      ]
     },
     "execution_count": 28,
     "metadata": {},
     "output_type": "execute_result"
    }
   ],
   "source": [
    "# Now lets pipe all the function we have made\n",
    "location = input_keyword('tugu muda')\n",
    "showing_map(location)\n"
   ]
  },
  {
   "cell_type": "code",
   "execution_count": 29,
   "id": "223cc55e-fe70-40f6-946a-67c851b1d30c",
   "metadata": {},
   "outputs": [],
   "source": [
    "def detail_information(place_id):\n",
    "    scheme='https'\n",
    "    output='json'\n",
    "    endpoint='maps.googleapis.com/maps/api/place/details'\n",
    "    params = {\n",
    "        'place_id':place_id,\n",
    "        'key':api_key,\n",
    "        'fields':'name,geometry,type,price_level,user_ratings_total,international_phone_number,rating'\n",
    "    }\n",
    "    encoded_params=urlencode(params)\n",
    "    url=f\"{scheme}://{endpoint}/{output}?{encoded_params}\"\n",
    "    r=requests.get(url)\n",
    "    return (r.json()['result'])"
   ]
  },
  {
   "cell_type": "code",
   "execution_count": 30,
   "id": "1b38c43e-b94d-4842-87b6-1e7c508f9232",
   "metadata": {},
   "outputs": [],
   "source": [
    "# Lets update the presenting further by giving the more detail for each icon showed in the map\n",
    "\n",
    "def showing_map3(location):\n",
    "    Map = folium.Map(location = location,zoom_start=18)\n",
    "    folium.Marker(location,icon=folium.Icon(color='red',icon='dotted')).add_to(Map)\n",
    "    latlng={}\n",
    "    for i in range(0, len(test_1)): \n",
    "        # get the marker location\n",
    "        latlng = test_1[i]['geometry']['location']\n",
    "        latlng= latlng = latlng.get('lat'),latlng.get('lng')\n",
    "        \n",
    "        # get marker tooltip\n",
    "        tooltip = test_1[i]['place_id']\n",
    "        det_info= detail_information(tooltip)\n",
    "        \n",
    "        # get neater popup\n",
    "        popup = f\"location: lat:{det_info['geometry']['location']['lat']},lng:{det_info['geometry']['location']['lng']} \"\n",
    "           \n",
    "        folium.Marker(latlng,popup=f'<b>{popup}</b>',tooltip=f\"{det_info['name']},{det_info['types'][0]}\").add_to(Map)       \n",
    "    return Map"
   ]
  },
  {
   "cell_type": "code",
   "execution_count": 31,
   "id": "d8d07a60-3c79-4539-9920-3fd6d26a5935",
   "metadata": {},
   "outputs": [],
   "source": [
    "# Remake all function into functions which rely on other function\n",
    "\n",
    "# Creating function which asking key word and retrieve the data from google maps using geocoding API.\n",
    "\n",
    "def input_keyword_pipe(place_name):\n",
    "    scheme=\"https\"\n",
    "    output=\"json\"\n",
    "    endpoint=\"maps.googleapis.com/maps/api/place/findplacefromtext\"\n",
    "    output=\"json\"\n",
    "    params={\"input\":place_name,\n",
    "           'inputtype':\"textquery\",\n",
    "           'key':api_key,\n",
    "           'fields':'name,geometry'}\n",
    "    encodedparams=urlencode(params)\n",
    "    url = f\"{scheme}://{endpoint}/{output}?{encodedparams}\"\n",
    "    r=requests.get(url)\n",
    "    latlng = {}\n",
    "    try:\n",
    "        latlng = r.json()[\"candidates\"][0]['geometry']['location']\n",
    "    except:\n",
    "        pass\n",
    "    return latlng.get(\"lat\"),latlng.get('lng')\n",
    "\n",
    "\n",
    "# searching location nearby main location search ased on type\n",
    "\n",
    "def nearby_place_pipe(latlng,rad, location_type):\n",
    "    scheme=\"https\"\n",
    "    output=\"json\"\n",
    "    endpoint=\"maps.googleapis.com/maps/api/place/nearbysearch\"\n",
    "    output=\"json\"\n",
    "    params={\"location\":f\"{latlng[0]},{latlng[1]}\",\n",
    "           'radius':rad,\n",
    "           'type':location_type,\n",
    "           'key':api_key}\n",
    "    encodedparams=urlencode(params)\n",
    "    url = f\"{scheme}://{endpoint}/{output}?{encodedparams}\"\n",
    "    r=requests.get(url)\n",
    "    return r.json()['results']\n",
    "\n",
    "# Asking more detail information \n",
    "\n",
    "def detail_information_pipe(place_id):\n",
    "    scheme='https'\n",
    "    output='json'\n",
    "    endpoint='maps.googleapis.com/maps/api/place/details'\n",
    "    params = {\n",
    "        'place_id':place_id,\n",
    "        'key':api_key,\n",
    "        'fields':'name,geometry,type,price_level,user_ratings_total,international_phone_number,rating'\n",
    "    }\n",
    "    encoded_params=urlencode(params)\n",
    "    url=f\"{scheme}://{endpoint}/{output}?{encoded_params}\"\n",
    "    r=requests.get(url)\n",
    "    return (r.json()['result'])\n",
    "\n",
    "# showing maps function\n",
    "# Lets update the presenting further by giving the more detail for each icon showed in the map\n",
    "\n",
    "def showing_map_pipe(latlng,nearbyplace_output):\n",
    "    Map = folium.Map(location = latlng,zoom_start=18)\n",
    "    folium.Marker(latlng,icon=folium.Icon(color='red',icon='dotted')).add_to(Map)\n",
    "    latlng={}\n",
    "    for i in range(0, len(nearbyplace_output)): \n",
    "        # get the marker location from nearby place API\n",
    "        latlng = nearbyplace_output[i]['geometry']['location']\n",
    "        latlng= latlng = latlng.get('lat'),latlng.get('lng')\n",
    "        \n",
    "        # get marker tooltip and popup from detail place\n",
    "        tooltip = nearbyplace_output[i]['place_id']\n",
    "        det_info= detail_information_pipe(tooltip)\n",
    "        \n",
    "        # get neater popup\n",
    "        popup = f\"location: lat:{det_info['geometry']['location']['lat']},lng:{det_info['geometry']['location']['lng']} \"\n",
    "           \n",
    "        folium.Marker(latlng,popup=f'<b>{popup}</b>',tooltip=f\"{det_info['name']},{det_info['types'][0]}\").add_to(Map)       \n",
    "    return Map"
   ]
  },
  {
   "cell_type": "code",
   "execution_count": 32,
   "id": "2033b890-c6e7-42f2-8e2f-6037272e6876",
   "metadata": {},
   "outputs": [],
   "source": [
    "def test_maps(keyword,search_rad,types):\n",
    "    input_keyword_output     = input_keyword_pipe(keyword)\n",
    "    nearby_places_output     = nearby_place_pipe(input_keyword_output,search_rad,types)\n",
    "    return showing_map_pipe(input_keyword_output,nearby_places_output)"
   ]
  },
  {
   "cell_type": "code",
   "execution_count": 33,
   "id": "1220452b-e5f7-4db9-839c-c5d2c3bf2db6",
   "metadata": {},
   "outputs": [
    {
     "data": {
      "text/html": [
       "<div style=\"width:100%;\"><div style=\"position:relative;width:100%;height:0;padding-bottom:60%;\"><span style=\"color:#565656\">Make this Notebook Trusted to load map: File -> Trust Notebook</span><iframe src=\"about:blank\" style=\"position:absolute;width:100%;height:100%;left:0;top:0;border:none !important;\" data-html=%3C%21DOCTYPE%20html%3E%0A%3Chead%3E%20%20%20%20%0A%20%20%20%20%3Cmeta%20http-equiv%3D%22content-type%22%20content%3D%22text/html%3B%20charset%3DUTF-8%22%20/%3E%0A%20%20%20%20%0A%20%20%20%20%20%20%20%20%3Cscript%3E%0A%20%20%20%20%20%20%20%20%20%20%20%20L_NO_TOUCH%20%3D%20false%3B%0A%20%20%20%20%20%20%20%20%20%20%20%20L_DISABLE_3D%20%3D%20false%3B%0A%20%20%20%20%20%20%20%20%3C/script%3E%0A%20%20%20%20%0A%20%20%20%20%3Cstyle%3Ehtml%2C%20body%20%7Bwidth%3A%20100%25%3Bheight%3A%20100%25%3Bmargin%3A%200%3Bpadding%3A%200%3B%7D%3C/style%3E%0A%20%20%20%20%3Cstyle%3E%23map%20%7Bposition%3Aabsolute%3Btop%3A0%3Bbottom%3A0%3Bright%3A0%3Bleft%3A0%3B%7D%3C/style%3E%0A%20%20%20%20%3Cscript%20src%3D%22https%3A//cdn.jsdelivr.net/npm/leaflet%401.6.0/dist/leaflet.js%22%3E%3C/script%3E%0A%20%20%20%20%3Cscript%20src%3D%22https%3A//code.jquery.com/jquery-1.12.4.min.js%22%3E%3C/script%3E%0A%20%20%20%20%3Cscript%20src%3D%22https%3A//maxcdn.bootstrapcdn.com/bootstrap/3.2.0/js/bootstrap.min.js%22%3E%3C/script%3E%0A%20%20%20%20%3Cscript%20src%3D%22https%3A//cdnjs.cloudflare.com/ajax/libs/Leaflet.awesome-markers/2.0.2/leaflet.awesome-markers.js%22%3E%3C/script%3E%0A%20%20%20%20%3Clink%20rel%3D%22stylesheet%22%20href%3D%22https%3A//cdn.jsdelivr.net/npm/leaflet%401.6.0/dist/leaflet.css%22/%3E%0A%20%20%20%20%3Clink%20rel%3D%22stylesheet%22%20href%3D%22https%3A//maxcdn.bootstrapcdn.com/bootstrap/3.2.0/css/bootstrap.min.css%22/%3E%0A%20%20%20%20%3Clink%20rel%3D%22stylesheet%22%20href%3D%22https%3A//maxcdn.bootstrapcdn.com/bootstrap/3.2.0/css/bootstrap-theme.min.css%22/%3E%0A%20%20%20%20%3Clink%20rel%3D%22stylesheet%22%20href%3D%22https%3A//maxcdn.bootstrapcdn.com/font-awesome/4.6.3/css/font-awesome.min.css%22/%3E%0A%20%20%20%20%3Clink%20rel%3D%22stylesheet%22%20href%3D%22https%3A//cdnjs.cloudflare.com/ajax/libs/Leaflet.awesome-markers/2.0.2/leaflet.awesome-markers.css%22/%3E%0A%20%20%20%20%3Clink%20rel%3D%22stylesheet%22%20href%3D%22https%3A//cdn.jsdelivr.net/gh/python-visualization/folium/folium/templates/leaflet.awesome.rotate.min.css%22/%3E%0A%20%20%20%20%0A%20%20%20%20%20%20%20%20%20%20%20%20%3Cmeta%20name%3D%22viewport%22%20content%3D%22width%3Ddevice-width%2C%0A%20%20%20%20%20%20%20%20%20%20%20%20%20%20%20%20initial-scale%3D1.0%2C%20maximum-scale%3D1.0%2C%20user-scalable%3Dno%22%20/%3E%0A%20%20%20%20%20%20%20%20%20%20%20%20%3Cstyle%3E%0A%20%20%20%20%20%20%20%20%20%20%20%20%20%20%20%20%23map_cf756870ed804afe8e9dc8d3f059aad5%20%7B%0A%20%20%20%20%20%20%20%20%20%20%20%20%20%20%20%20%20%20%20%20position%3A%20relative%3B%0A%20%20%20%20%20%20%20%20%20%20%20%20%20%20%20%20%20%20%20%20width%3A%20100.0%25%3B%0A%20%20%20%20%20%20%20%20%20%20%20%20%20%20%20%20%20%20%20%20height%3A%20100.0%25%3B%0A%20%20%20%20%20%20%20%20%20%20%20%20%20%20%20%20%20%20%20%20left%3A%200.0%25%3B%0A%20%20%20%20%20%20%20%20%20%20%20%20%20%20%20%20%20%20%20%20top%3A%200.0%25%3B%0A%20%20%20%20%20%20%20%20%20%20%20%20%20%20%20%20%7D%0A%20%20%20%20%20%20%20%20%20%20%20%20%3C/style%3E%0A%20%20%20%20%20%20%20%20%0A%3C/head%3E%0A%3Cbody%3E%20%20%20%20%0A%20%20%20%20%0A%20%20%20%20%20%20%20%20%20%20%20%20%3Cdiv%20class%3D%22folium-map%22%20id%3D%22map_cf756870ed804afe8e9dc8d3f059aad5%22%20%3E%3C/div%3E%0A%20%20%20%20%20%20%20%20%0A%3C/body%3E%0A%3Cscript%3E%20%20%20%20%0A%20%20%20%20%0A%20%20%20%20%20%20%20%20%20%20%20%20var%20map_cf756870ed804afe8e9dc8d3f059aad5%20%3D%20L.map%28%0A%20%20%20%20%20%20%20%20%20%20%20%20%20%20%20%20%22map_cf756870ed804afe8e9dc8d3f059aad5%22%2C%0A%20%20%20%20%20%20%20%20%20%20%20%20%20%20%20%20%7B%0A%20%20%20%20%20%20%20%20%20%20%20%20%20%20%20%20%20%20%20%20center%3A%20%5B53.4630589%2C%20-2.2913401%5D%2C%0A%20%20%20%20%20%20%20%20%20%20%20%20%20%20%20%20%20%20%20%20crs%3A%20L.CRS.EPSG3857%2C%0A%20%20%20%20%20%20%20%20%20%20%20%20%20%20%20%20%20%20%20%20zoom%3A%2018%2C%0A%20%20%20%20%20%20%20%20%20%20%20%20%20%20%20%20%20%20%20%20zoomControl%3A%20true%2C%0A%20%20%20%20%20%20%20%20%20%20%20%20%20%20%20%20%20%20%20%20preferCanvas%3A%20false%2C%0A%20%20%20%20%20%20%20%20%20%20%20%20%20%20%20%20%7D%0A%20%20%20%20%20%20%20%20%20%20%20%20%29%3B%0A%0A%20%20%20%20%20%20%20%20%20%20%20%20%0A%0A%20%20%20%20%20%20%20%20%0A%20%20%20%20%0A%20%20%20%20%20%20%20%20%20%20%20%20var%20tile_layer_3832fc95f83e4aca9be5f13426b0d51f%20%3D%20L.tileLayer%28%0A%20%20%20%20%20%20%20%20%20%20%20%20%20%20%20%20%22https%3A//%7Bs%7D.tile.openstreetmap.org/%7Bz%7D/%7Bx%7D/%7By%7D.png%22%2C%0A%20%20%20%20%20%20%20%20%20%20%20%20%20%20%20%20%7B%22attribution%22%3A%20%22Data%20by%20%5Cu0026copy%3B%20%5Cu003ca%20href%3D%5C%22http%3A//openstreetmap.org%5C%22%5Cu003eOpenStreetMap%5Cu003c/a%5Cu003e%2C%20under%20%5Cu003ca%20href%3D%5C%22http%3A//www.openstreetmap.org/copyright%5C%22%5Cu003eODbL%5Cu003c/a%5Cu003e.%22%2C%20%22detectRetina%22%3A%20false%2C%20%22maxNativeZoom%22%3A%2018%2C%20%22maxZoom%22%3A%2018%2C%20%22minZoom%22%3A%200%2C%20%22noWrap%22%3A%20false%2C%20%22opacity%22%3A%201%2C%20%22subdomains%22%3A%20%22abc%22%2C%20%22tms%22%3A%20false%7D%0A%20%20%20%20%20%20%20%20%20%20%20%20%29.addTo%28map_cf756870ed804afe8e9dc8d3f059aad5%29%3B%0A%20%20%20%20%20%20%20%20%0A%20%20%20%20%0A%20%20%20%20%20%20%20%20%20%20%20%20var%20marker_4aca6616b8644798a63ac1e0f5fe4ecd%20%3D%20L.marker%28%0A%20%20%20%20%20%20%20%20%20%20%20%20%20%20%20%20%5B53.4630589%2C%20-2.2913401%5D%2C%0A%20%20%20%20%20%20%20%20%20%20%20%20%20%20%20%20%7B%7D%0A%20%20%20%20%20%20%20%20%20%20%20%20%29.addTo%28map_cf756870ed804afe8e9dc8d3f059aad5%29%3B%0A%20%20%20%20%20%20%20%20%0A%20%20%20%20%0A%20%20%20%20%20%20%20%20%20%20%20%20var%20icon_f4a77c1b903e4c599feb070b9b5bd1b6%20%3D%20L.AwesomeMarkers.icon%28%0A%20%20%20%20%20%20%20%20%20%20%20%20%20%20%20%20%7B%22extraClasses%22%3A%20%22fa-rotate-0%22%2C%20%22icon%22%3A%20%22dotted%22%2C%20%22iconColor%22%3A%20%22white%22%2C%20%22markerColor%22%3A%20%22red%22%2C%20%22prefix%22%3A%20%22glyphicon%22%7D%0A%20%20%20%20%20%20%20%20%20%20%20%20%29%3B%0A%20%20%20%20%20%20%20%20%20%20%20%20marker_4aca6616b8644798a63ac1e0f5fe4ecd.setIcon%28icon_f4a77c1b903e4c599feb070b9b5bd1b6%29%3B%0A%20%20%20%20%20%20%20%20%0A%20%20%20%20%0A%20%20%20%20%20%20%20%20%20%20%20%20var%20marker_93d01009bcaa4dc8a439f3b6cd0a2723%20%3D%20L.marker%28%0A%20%20%20%20%20%20%20%20%20%20%20%20%20%20%20%20%5B53.4614401%2C%20-2.2883946%5D%2C%0A%20%20%20%20%20%20%20%20%20%20%20%20%20%20%20%20%7B%7D%0A%20%20%20%20%20%20%20%20%20%20%20%20%29.addTo%28map_cf756870ed804afe8e9dc8d3f059aad5%29%3B%0A%20%20%20%20%20%20%20%20%0A%20%20%20%20%0A%20%20%20%20%20%20%20%20var%20popup_78cf926c60124f6ead292dd8f0d3057a%20%3D%20L.popup%28%7B%22maxWidth%22%3A%20%22100%25%22%7D%29%3B%0A%0A%20%20%20%20%20%20%20%20%0A%20%20%20%20%20%20%20%20%20%20%20%20var%20html_11ccfe8d39814d31944a4b90b87fff98%20%3D%20%24%28%60%3Cdiv%20id%3D%22html_11ccfe8d39814d31944a4b90b87fff98%22%20style%3D%22width%3A%20100.0%25%3B%20height%3A%20100.0%25%3B%22%3E%3Cb%3Elocation%3A%20lat%3A53.4614401%2Clng%3A-2.2883946%20%3C/b%3E%3C/div%3E%60%29%5B0%5D%3B%0A%20%20%20%20%20%20%20%20%20%20%20%20popup_78cf926c60124f6ead292dd8f0d3057a.setContent%28html_11ccfe8d39814d31944a4b90b87fff98%29%3B%0A%20%20%20%20%20%20%20%20%0A%0A%20%20%20%20%20%20%20%20marker_93d01009bcaa4dc8a439f3b6cd0a2723.bindPopup%28popup_78cf926c60124f6ead292dd8f0d3057a%29%0A%20%20%20%20%20%20%20%20%3B%0A%0A%20%20%20%20%20%20%20%20%0A%20%20%20%20%0A%20%20%20%20%0A%20%20%20%20%20%20%20%20%20%20%20%20marker_93d01009bcaa4dc8a439f3b6cd0a2723.bindTooltip%28%0A%20%20%20%20%20%20%20%20%20%20%20%20%20%20%20%20%60%3Cdiv%3E%0A%20%20%20%20%20%20%20%20%20%20%20%20%20%20%20%20%20%20%20%20%20United%20Cafe%2C%20Bar%20%26%20Off%20Licence%2Ccafe%0A%20%20%20%20%20%20%20%20%20%20%20%20%20%20%20%20%20%3C/div%3E%60%2C%0A%20%20%20%20%20%20%20%20%20%20%20%20%20%20%20%20%7B%22sticky%22%3A%20true%7D%0A%20%20%20%20%20%20%20%20%20%20%20%20%29%3B%0A%20%20%20%20%20%20%20%20%0A%20%20%20%20%0A%20%20%20%20%20%20%20%20%20%20%20%20var%20marker_c94e222155234fd2adb95d73fad8512f%20%3D%20L.marker%28%0A%20%20%20%20%20%20%20%20%20%20%20%20%20%20%20%20%5B53.45924120000001%2C%20-2.2904962%5D%2C%0A%20%20%20%20%20%20%20%20%20%20%20%20%20%20%20%20%7B%7D%0A%20%20%20%20%20%20%20%20%20%20%20%20%29.addTo%28map_cf756870ed804afe8e9dc8d3f059aad5%29%3B%0A%20%20%20%20%20%20%20%20%0A%20%20%20%20%0A%20%20%20%20%20%20%20%20var%20popup_9cf65f295e224080bbc554e001d82abc%20%3D%20L.popup%28%7B%22maxWidth%22%3A%20%22100%25%22%7D%29%3B%0A%0A%20%20%20%20%20%20%20%20%0A%20%20%20%20%20%20%20%20%20%20%20%20var%20html_b7333322d49b4b088614111098e10fe7%20%3D%20%24%28%60%3Cdiv%20id%3D%22html_b7333322d49b4b088614111098e10fe7%22%20style%3D%22width%3A%20100.0%25%3B%20height%3A%20100.0%25%3B%22%3E%3Cb%3Elocation%3A%20lat%3A53.45924120000001%2Clng%3A-2.2904962%20%3C/b%3E%3C/div%3E%60%29%5B0%5D%3B%0A%20%20%20%20%20%20%20%20%20%20%20%20popup_9cf65f295e224080bbc554e001d82abc.setContent%28html_b7333322d49b4b088614111098e10fe7%29%3B%0A%20%20%20%20%20%20%20%20%0A%0A%20%20%20%20%20%20%20%20marker_c94e222155234fd2adb95d73fad8512f.bindPopup%28popup_9cf65f295e224080bbc554e001d82abc%29%0A%20%20%20%20%20%20%20%20%3B%0A%0A%20%20%20%20%20%20%20%20%0A%20%20%20%20%0A%20%20%20%20%0A%20%20%20%20%20%20%20%20%20%20%20%20marker_c94e222155234fd2adb95d73fad8512f.bindTooltip%28%0A%20%20%20%20%20%20%20%20%20%20%20%20%20%20%20%20%60%3Cdiv%3E%0A%20%20%20%20%20%20%20%20%20%20%20%20%20%20%20%20%20%20%20%20%20Tesco%20Cafe%2Ccafe%0A%20%20%20%20%20%20%20%20%20%20%20%20%20%20%20%20%20%3C/div%3E%60%2C%0A%20%20%20%20%20%20%20%20%20%20%20%20%20%20%20%20%7B%22sticky%22%3A%20true%7D%0A%20%20%20%20%20%20%20%20%20%20%20%20%29%3B%0A%20%20%20%20%20%20%20%20%0A%20%20%20%20%0A%20%20%20%20%20%20%20%20%20%20%20%20var%20marker_a3344c1451f547088f9ad3ae01def81a%20%3D%20L.marker%28%0A%20%20%20%20%20%20%20%20%20%20%20%20%20%20%20%20%5B53.4620878%2C%20-2.2845702%5D%2C%0A%20%20%20%20%20%20%20%20%20%20%20%20%20%20%20%20%7B%7D%0A%20%20%20%20%20%20%20%20%20%20%20%20%29.addTo%28map_cf756870ed804afe8e9dc8d3f059aad5%29%3B%0A%20%20%20%20%20%20%20%20%0A%20%20%20%20%0A%20%20%20%20%20%20%20%20var%20popup_f37be2b2c18e41579589f6a318ea5c24%20%3D%20L.popup%28%7B%22maxWidth%22%3A%20%22100%25%22%7D%29%3B%0A%0A%20%20%20%20%20%20%20%20%0A%20%20%20%20%20%20%20%20%20%20%20%20var%20html_b6170414df28408fb69e3737b27bdc3a%20%3D%20%24%28%60%3Cdiv%20id%3D%22html_b6170414df28408fb69e3737b27bdc3a%22%20style%3D%22width%3A%20100.0%25%3B%20height%3A%20100.0%25%3B%22%3E%3Cb%3Elocation%3A%20lat%3A53.4620878%2Clng%3A-2.2845702%20%3C/b%3E%3C/div%3E%60%29%5B0%5D%3B%0A%20%20%20%20%20%20%20%20%20%20%20%20popup_f37be2b2c18e41579589f6a318ea5c24.setContent%28html_b6170414df28408fb69e3737b27bdc3a%29%3B%0A%20%20%20%20%20%20%20%20%0A%0A%20%20%20%20%20%20%20%20marker_a3344c1451f547088f9ad3ae01def81a.bindPopup%28popup_f37be2b2c18e41579589f6a318ea5c24%29%0A%20%20%20%20%20%20%20%20%3B%0A%0A%20%20%20%20%20%20%20%20%0A%20%20%20%20%0A%20%20%20%20%0A%20%20%20%20%20%20%20%20%20%20%20%20marker_a3344c1451f547088f9ad3ae01def81a.bindTooltip%28%0A%20%20%20%20%20%20%20%20%20%20%20%20%20%20%20%20%60%3Cdiv%3E%0A%20%20%20%20%20%20%20%20%20%20%20%20%20%20%20%20%20%20%20%20%20Costa%20Coffee%2Ccafe%0A%20%20%20%20%20%20%20%20%20%20%20%20%20%20%20%20%20%3C/div%3E%60%2C%0A%20%20%20%20%20%20%20%20%20%20%20%20%20%20%20%20%7B%22sticky%22%3A%20true%7D%0A%20%20%20%20%20%20%20%20%20%20%20%20%29%3B%0A%20%20%20%20%20%20%20%20%0A%20%20%20%20%0A%20%20%20%20%20%20%20%20%20%20%20%20var%20marker_8c2ee225661a4d0dbc512d1eac673eb8%20%3D%20L.marker%28%0A%20%20%20%20%20%20%20%20%20%20%20%20%20%20%20%20%5B53.46363419999999%2C%20-2.2917007%5D%2C%0A%20%20%20%20%20%20%20%20%20%20%20%20%20%20%20%20%7B%7D%0A%20%20%20%20%20%20%20%20%20%20%20%20%29.addTo%28map_cf756870ed804afe8e9dc8d3f059aad5%29%3B%0A%20%20%20%20%20%20%20%20%0A%20%20%20%20%0A%20%20%20%20%20%20%20%20var%20popup_87d29d4234ea4e96a5bdd1424961f5f1%20%3D%20L.popup%28%7B%22maxWidth%22%3A%20%22100%25%22%7D%29%3B%0A%0A%20%20%20%20%20%20%20%20%0A%20%20%20%20%20%20%20%20%20%20%20%20var%20html_2f5a7e4a54e1423593b0163e68b0f807%20%3D%20%24%28%60%3Cdiv%20id%3D%22html_2f5a7e4a54e1423593b0163e68b0f807%22%20style%3D%22width%3A%20100.0%25%3B%20height%3A%20100.0%25%3B%22%3E%3Cb%3Elocation%3A%20lat%3A53.46363419999999%2Clng%3A-2.2917007%20%3C/b%3E%3C/div%3E%60%29%5B0%5D%3B%0A%20%20%20%20%20%20%20%20%20%20%20%20popup_87d29d4234ea4e96a5bdd1424961f5f1.setContent%28html_2f5a7e4a54e1423593b0163e68b0f807%29%3B%0A%20%20%20%20%20%20%20%20%0A%0A%20%20%20%20%20%20%20%20marker_8c2ee225661a4d0dbc512d1eac673eb8.bindPopup%28popup_87d29d4234ea4e96a5bdd1424961f5f1%29%0A%20%20%20%20%20%20%20%20%3B%0A%0A%20%20%20%20%20%20%20%20%0A%20%20%20%20%0A%20%20%20%20%0A%20%20%20%20%20%20%20%20%20%20%20%20marker_8c2ee225661a4d0dbc512d1eac673eb8.bindTooltip%28%0A%20%20%20%20%20%20%20%20%20%20%20%20%20%20%20%20%60%3Cdiv%3E%0A%20%20%20%20%20%20%20%20%20%20%20%20%20%20%20%20%20%20%20%20%20Red%20Caf%C3%A9%20at%20Old%20Trafford%2Ccafe%0A%20%20%20%20%20%20%20%20%20%20%20%20%20%20%20%20%20%3C/div%3E%60%2C%0A%20%20%20%20%20%20%20%20%20%20%20%20%20%20%20%20%7B%22sticky%22%3A%20true%7D%0A%20%20%20%20%20%20%20%20%20%20%20%20%29%3B%0A%20%20%20%20%20%20%20%20%0A%20%20%20%20%0A%20%20%20%20%20%20%20%20%20%20%20%20var%20marker_e0cae5b002014b5d91f484d6d5256c97%20%3D%20L.marker%28%0A%20%20%20%20%20%20%20%20%20%20%20%20%20%20%20%20%5B53.4614677%2C%20-2.2856987%5D%2C%0A%20%20%20%20%20%20%20%20%20%20%20%20%20%20%20%20%7B%7D%0A%20%20%20%20%20%20%20%20%20%20%20%20%29.addTo%28map_cf756870ed804afe8e9dc8d3f059aad5%29%3B%0A%20%20%20%20%20%20%20%20%0A%20%20%20%20%0A%20%20%20%20%20%20%20%20var%20popup_eebaeaa9e4044d518743ffa913822780%20%3D%20L.popup%28%7B%22maxWidth%22%3A%20%22100%25%22%7D%29%3B%0A%0A%20%20%20%20%20%20%20%20%0A%20%20%20%20%20%20%20%20%20%20%20%20var%20html_10265f59ae6345d4a982e8fff85f382e%20%3D%20%24%28%60%3Cdiv%20id%3D%22html_10265f59ae6345d4a982e8fff85f382e%22%20style%3D%22width%3A%20100.0%25%3B%20height%3A%20100.0%25%3B%22%3E%3Cb%3Elocation%3A%20lat%3A53.4614677%2Clng%3A-2.2856987%20%3C/b%3E%3C/div%3E%60%29%5B0%5D%3B%0A%20%20%20%20%20%20%20%20%20%20%20%20popup_eebaeaa9e4044d518743ffa913822780.setContent%28html_10265f59ae6345d4a982e8fff85f382e%29%3B%0A%20%20%20%20%20%20%20%20%0A%0A%20%20%20%20%20%20%20%20marker_e0cae5b002014b5d91f484d6d5256c97.bindPopup%28popup_eebaeaa9e4044d518743ffa913822780%29%0A%20%20%20%20%20%20%20%20%3B%0A%0A%20%20%20%20%20%20%20%20%0A%20%20%20%20%0A%20%20%20%20%0A%20%20%20%20%20%20%20%20%20%20%20%20marker_e0cae5b002014b5d91f484d6d5256c97.bindTooltip%28%0A%20%20%20%20%20%20%20%20%20%20%20%20%20%20%20%20%60%3Cdiv%3E%0A%20%20%20%20%20%20%20%20%20%20%20%20%20%20%20%20%20%20%20%20%20M%26S%20Cafe%2Ccafe%0A%20%20%20%20%20%20%20%20%20%20%20%20%20%20%20%20%20%3C/div%3E%60%2C%0A%20%20%20%20%20%20%20%20%20%20%20%20%20%20%20%20%7B%22sticky%22%3A%20true%7D%0A%20%20%20%20%20%20%20%20%20%20%20%20%29%3B%0A%20%20%20%20%20%20%20%20%0A%3C/script%3E onload=\"this.contentDocument.open();this.contentDocument.write(    decodeURIComponent(this.getAttribute('data-html')));this.contentDocument.close();\" allowfullscreen webkitallowfullscreen mozallowfullscreen></iframe></div></div>"
      ],
      "text/plain": [
       "<folium.folium.Map at 0x7f2c5f05b4c0>"
      ]
     },
     "execution_count": 33,
     "metadata": {},
     "output_type": "execute_result"
    }
   ],
   "source": [
    "test_maps(\"old trafford\",500,'cafe')"
   ]
  },
  {
   "cell_type": "code",
   "execution_count": null,
   "id": "d82aa63c-4e59-4dea-bfc4-c98efd8de6ef",
   "metadata": {},
   "outputs": [],
   "source": []
  }
 ],
 "metadata": {
  "kernelspec": {
   "display_name": "Python 3 (ipykernel)",
   "language": "python",
   "name": "python3"
  },
  "language_info": {
   "codemirror_mode": {
    "name": "ipython",
    "version": 3
   },
   "file_extension": ".py",
   "mimetype": "text/x-python",
   "name": "python",
   "nbconvert_exporter": "python",
   "pygments_lexer": "ipython3",
   "version": "3.9.6"
  }
 },
 "nbformat": 4,
 "nbformat_minor": 5
}
